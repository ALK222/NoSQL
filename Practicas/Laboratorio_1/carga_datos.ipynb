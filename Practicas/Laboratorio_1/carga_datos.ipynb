{
 "cells": [
  {
   "cell_type": "markdown",
   "metadata": {},
   "source": [
    "# Carga de datos en la BBDD\n",
    "## Imports\n",
    "Imports necesarios de Python para abrir y ver la base de datos"
   ]
  },
  {
   "cell_type": "code",
   "execution_count": 1,
   "metadata": {},
   "outputs": [],
   "source": [
    "import json        # para trabajar con documentos json\n",
    "import pymongo     # para la conexión con el servidor\n",
    "from pprint import pprint  # para mostrar los json bonitos\n"
   ]
  },
  {
   "cell_type": "markdown",
   "metadata": {},
   "source": [
    "## Conexión con el cliente\n",
    "Conexión a un cliente local de MongoDB"
   ]
  },
  {
   "cell_type": "code",
   "execution_count": 2,
   "metadata": {},
   "outputs": [
    {
     "name": "stdout",
     "output_type": "stream",
     "text": [
      "Conectado a MongoDB, versión 6.0.1\n"
     ]
    }
   ],
   "source": [
    "#cliente = pymongo.MongoClient()\n",
    "cliente = pymongo.MongoClient('mongodb://127.0.0.1:27017/')\n",
    "\n",
    "# código para ver si se ha conectado bien\n",
    "try:\n",
    "    s = cliente.server_info()  # si hay error tendremos una excepción\n",
    "    print(\"Conectado a MongoDB, versión\", s[\"version\"])\n",
    "except:\n",
    "    print(\"connection error\")\n"
   ]
  },
  {
   "cell_type": "markdown",
   "metadata": {},
   "source": [
    "### Conexión a atlas\n",
    "Hay que registrarse y conseguir una clave"
   ]
  },
  {
   "cell_type": "code",
   "execution_count": 6,
   "metadata": {},
   "outputs": [
    {
     "name": "stdout",
     "output_type": "stream",
     "text": [
      "connection error\n"
     ]
    }
   ],
   "source": [
    "# La password la tengo guardada en un fichero de texto.\n",
    "# No la muestro aquí.\n",
    "password = open('../pass_atlas.txt').readlines()[0]\n",
    "\n",
    "# La cadena de conexión la copio de Atlas\n",
    "client = pymongo.MongoClient(\n",
    "    f\"mongodb+srv://alk:<password>@cluster0.vkunov3.mongodb.net/?retryWrites=true&w=majority\")\n",
    "db = client.test\n",
    "# código para ver si se ha conectado bien\n",
    "try:\n",
    "    s = cliente.server_info()  # si hay error tendremos una excepción\n",
    "    print(\"Conectado a MongoDB Enterprise Atlas, versión\", s[\"version\"])\n",
    "except:\n",
    "    print(\"connection error\")\n"
   ]
  },
  {
   "cell_type": "markdown",
   "metadata": {},
   "source": [
    "## Listar bases de datos"
   ]
  },
  {
   "cell_type": "code",
   "execution_count": 12,
   "metadata": {},
   "outputs": [
    {
     "name": "stdout",
     "output_type": "stream",
     "text": [
      "Lista de Bases de datos:\n",
      " ['admin', 'config', 'local', 'usa']\n"
     ]
    }
   ],
   "source": [
    "print(\"Lista de Bases de datos:\\n\", cliente.list_database_names())\n"
   ]
  },
  {
   "cell_type": "markdown",
   "metadata": {},
   "source": [
    "## Listar colecciones"
   ]
  },
  {
   "cell_type": "code",
   "execution_count": 8,
   "metadata": {},
   "outputs": [
    {
     "data": {
      "text/plain": [
       "[]"
      ]
     },
     "execution_count": 8,
     "metadata": {},
     "output_type": "execute_result"
    }
   ],
   "source": [
    "db = cliente['sample_mflix']    # selecciono la base de datos\n",
    "db.list_collection_names()\n"
   ]
  },
  {
   "cell_type": "markdown",
   "metadata": {},
   "source": [
    "## Seleccionar colecciones"
   ]
  },
  {
   "cell_type": "code",
   "execution_count": 9,
   "metadata": {},
   "outputs": [],
   "source": [
    "col = db.comments    # selecciono la colección\n"
   ]
  },
  {
   "cell_type": "markdown",
   "metadata": {},
   "source": [
    "### Contar documentos de una colección"
   ]
  },
  {
   "cell_type": "code",
   "execution_count": 10,
   "metadata": {},
   "outputs": [
    {
     "data": {
      "text/plain": [
       "0"
      ]
     },
     "execution_count": 10,
     "metadata": {},
     "output_type": "execute_result"
    }
   ],
   "source": [
    "col.count_documents({})     # cuento el número de documentos en la colección\n"
   ]
  },
  {
   "cell_type": "markdown",
   "metadata": {},
   "source": [
    "### Mostrar primer elemento de una colección"
   ]
  },
  {
   "cell_type": "code",
   "execution_count": 11,
   "metadata": {},
   "outputs": [],
   "source": [
    "col.find_one()\n"
   ]
  },
  {
   "cell_type": "markdown",
   "metadata": {},
   "source": [
    "## Rutas a los archivos a cargar"
   ]
  },
  {
   "cell_type": "code",
   "execution_count": 3,
   "metadata": {},
   "outputs": [],
   "source": [
    "# path de los ficheros a cargar\n",
    "file1 = '../Entregable_1/companies.json'\n",
    "file2 = './data_users.json'\n"
   ]
  },
  {
   "cell_type": "markdown",
   "metadata": {},
   "source": [
    "## Carga de datos en la BBDD"
   ]
  },
  {
   "cell_type": "code",
   "execution_count": 4,
   "metadata": {},
   "outputs": [
    {
     "data": {
      "text/plain": [
       "<pymongo.results.InsertManyResult at 0x7f3b387954b0>"
      ]
     },
     "execution_count": 4,
     "metadata": {},
     "output_type": "execute_result"
    }
   ],
   "source": [
    "# Paso 1: leemos los  ficheros json a cargar\n",
    "with open('../Entregable_1/companies.json','r') as data_file:  # tweets\n",
    "    data_1 = json.load(data_file)\n",
    "with open('data_users.json', 'r') as data_file:   # users\n",
    "    data_2 = json.load(data_file)\n",
    "\n",
    "# Paso 2: creamos dos colecciones: 'tweets'  y 'users' en la base de datos 'usa'\n",
    "try:\n",
    "    cliente.drop_database(\"usa\")   # si existe ya, la borra\n",
    "except:\n",
    "    print('Error al intentar borrar la base de datos usa')\n",
    "cliente.usa.tweets.insert_many(data_1)\n",
    "cliente.usa.users.insert_many(data_2)\n"
   ]
  },
  {
   "cell_type": "markdown",
   "metadata": {},
   "source": [
    "### Comprobación de las BBDD después de la carga de datos"
   ]
  },
  {
   "cell_type": "code",
   "execution_count": 14,
   "metadata": {},
   "outputs": [
    {
     "name": "stdout",
     "output_type": "stream",
     "text": [
      "Lista de Bases de datos después de la importación:\n",
      " ['admin', 'config', 'local', 'usa']\n"
     ]
    }
   ],
   "source": [
    "print(\"Lista de Bases de datos después de la importación:\\n\",cliente.list_database_names())"
   ]
  }
 ],
 "metadata": {
  "kernelspec": {
   "display_name": "Python 3.10.5 64-bit",
   "language": "python",
   "name": "python3"
  },
  "language_info": {
   "codemirror_mode": {
    "name": "ipython",
    "version": 3
   },
   "file_extension": ".py",
   "mimetype": "text/x-python",
   "name": "python",
   "nbconvert_exporter": "python",
   "pygments_lexer": "ipython3",
   "version": "3.10.7"
  },
  "orig_nbformat": 4,
  "vscode": {
   "interpreter": {
    "hash": "916dbcbb3f70747c44a77c7bcd40155683ae19c65e1c03b4aa3499c5328201f1"
   }
  }
 },
 "nbformat": 4,
 "nbformat_minor": 2
}
