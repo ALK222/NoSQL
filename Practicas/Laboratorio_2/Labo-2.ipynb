{
 "cells": [
  {
   "cell_type": "code",
   "execution_count": 1,
   "metadata": {},
   "outputs": [
    {
     "name": "stdout",
     "output_type": "stream",
     "text": [
      "Conectado a MongoDB, versión 6.0.1\n"
     ]
    },
    {
     "data": {
      "text/plain": [
       "<pymongo.results.InsertManyResult at 0x7f889b4f9ed0>"
      ]
     },
     "execution_count": 1,
     "metadata": {},
     "output_type": "execute_result"
    }
   ],
   "source": [
    "import json        # para trabajar con documentos json\n",
    "import pymongo     # para la conexión con el servidor\n",
    "\n",
    "#cliente = pymongo.MongoClient()\n",
    "cliente = pymongo.MongoClient('mongodb://127.0.0.1:27017/')\n",
    "# La cadena de conexión la copio de Atlas\n",
    "#cliente = pymongo.MongoClient(f\"mongodb+srv://ygarciar:{password} \\\n",
    "#                             @cluster0.eeaqltb.mongodb.net/?retryWrites=true&w=majority\")\n",
    "\n",
    "# código para ver si se ha conectado bien\n",
    "try:\n",
    "    s = cliente.server_info()  # si hay error tendremos una excepción\n",
    "    print(\"Conectado a MongoDB, versión\", s[\"version\"])\n",
    "except:\n",
    "    print(\"connection error\")\n",
    "\n",
    "\n",
    "# path de los ficheros a cargar\n",
    "file = './json_award.json'\n",
    "\n",
    "# Paso 1: leemos los  ficheros json a cargar\n",
    "with open(file, 'r') as data_file:  # tweets\n",
    "    data = json.load(data_file)\n",
    "\n",
    "# Paso 2: creamos la bse de datos y la coleccion\n",
    "try:\n",
    "    cliente.drop_database(\"novelPrizes\")   # si existe ya, la borra\n",
    "except:\n",
    "    print('Error al intentar borrar la base de datos novelPrizes')\n",
    "cliente.novelPrizes.awards.insert_many(data)\n"
   ]
  },
  {
   "cell_type": "code",
   "execution_count": 2,
   "metadata": {},
   "outputs": [
    {
     "name": "stdout",
     "output_type": "stream",
     "text": [
      "Lista de Bases de datos después de la importación:\n",
      " ['admin', 'config', 'local', 'novelPrizes', 'usa']\n"
     ]
    }
   ],
   "source": [
    "print(\"Lista de Bases de datos después de la importación:\\n\",\n",
    "      cliente.list_database_names())\n"
   ]
  }
 ],
 "metadata": {
  "kernelspec": {
   "display_name": "Python 3.10.5 64-bit",
   "language": "python",
   "name": "python3"
  },
  "language_info": {
   "codemirror_mode": {
    "name": "ipython",
    "version": 3
   },
   "file_extension": ".py",
   "mimetype": "text/x-python",
   "name": "python",
   "nbconvert_exporter": "python",
   "pygments_lexer": "ipython3",
   "version": "3.10.7"
  },
  "orig_nbformat": 4,
  "vscode": {
   "interpreter": {
    "hash": "916dbcbb3f70747c44a77c7bcd40155683ae19c65e1c03b4aa3499c5328201f1"
   }
  }
 },
 "nbformat": 4,
 "nbformat_minor": 2
}
